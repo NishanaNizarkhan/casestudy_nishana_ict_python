{
 "cells": [
  {
   "cell_type": "markdown",
   "id": "d32d96d4",
   "metadata": {},
   "source": [
    "# case study"
   ]
  },
  {
   "cell_type": "code",
   "execution_count": 43,
   "id": "d890de81",
   "metadata": {},
   "outputs": [
    {
     "name": "stdout",
     "output_type": "stream",
     "text": [
      "Enter the mark50\n",
      "C\n"
     ]
    }
   ],
   "source": [
    "mark=int(input(\"Enter the mark\"))\n",
    "\n",
    "\n",
    "if mark < 25:\n",
    "    print(\"F\")\n",
    "elif mark >= 25 and mark< 45:\n",
    "    print(\"E\")\n",
    "elif mark >= 45 and mark< 50:\n",
    "    print(\"D\")\n",
    "elif mark >= 50 and mark< 60:\n",
    "    print(\"C\")\n",
    "elif mark >= 60 and mark< 80:\n",
    "    print(\"B\")\n",
    "else:\n",
    "    print(\"A\")"
   ]
  },
  {
   "cell_type": "code",
   "execution_count": 41,
   "id": "e617f787",
   "metadata": {},
   "outputs": [],
   "source": [
    "def names(lst):\n",
    "    unique = []\n",
    "    for name in lst:\n",
    "        name_set = set(name)\n",
    "        if len(name_set) == len(name):\n",
    "            unique.append(name)\n",
    "    return unique"
   ]
  },
  {
   "cell_type": "code",
   "execution_count": 42,
   "id": "e6ff43af",
   "metadata": {},
   "outputs": [
    {
     "data": {
      "text/plain": [
       "['rahul']"
      ]
     },
     "execution_count": 42,
     "metadata": {},
     "output_type": "execute_result"
    }
   ],
   "source": [
    "names(['rahul', 'ddkjsa'])"
   ]
  },
  {
   "cell_type": "code",
   "execution_count": 61,
   "id": "f683749b",
   "metadata": {},
   "outputs": [],
   "source": [
    "def is_square():\n",
    "    length = int(input(\"Length: \"))\n",
    "    breadth = int(input(\"Breadth: \"))\n",
    "    if length == breadth:\n",
    "        return \"Square\"\n",
    "    else:\n",
    "        return \"Rectangle\""
   ]
  },
  {
   "cell_type": "code",
   "execution_count": 63,
   "id": "ad49429a",
   "metadata": {},
   "outputs": [
    {
     "name": "stdout",
     "output_type": "stream",
     "text": [
      "Length: 35\n",
      "Breadth: 40\n"
     ]
    },
    {
     "data": {
      "text/plain": [
       "'Rectangle'"
      ]
     },
     "execution_count": 63,
     "metadata": {},
     "output_type": "execute_result"
    }
   ],
   "source": [
    "is_square()"
   ]
  },
  {
   "cell_type": "code",
   "execution_count": 64,
   "id": "bf2e1e2c",
   "metadata": {},
   "outputs": [
    {
     "name": "stdout",
     "output_type": "stream",
     "text": [
      "Length: 3\n",
      "Breadth: 3\n"
     ]
    },
    {
     "data": {
      "text/plain": [
       "'Square'"
      ]
     },
     "execution_count": 64,
     "metadata": {},
     "output_type": "execute_result"
    }
   ],
   "source": [
    "is_square()"
   ]
  },
  {
   "cell_type": "code",
   "execution_count": 57,
   "id": "e757df54",
   "metadata": {},
   "outputs": [],
   "source": [
    "def is_attendable():\n",
    "    num_class = int(input(\"Enter the number of classes\"))\n",
    "    num_attended = int(input(\"Enter number of class attended\"))\n",
    "    percent_of_attended = (num_attended / num_class) * 100\n",
    "    if percent_of_attended <= 75:\n",
    "        print(\"Cannot attend the exam\")\n",
    "    else:\n",
    "        print(\"Can attend the exam\")"
   ]
  },
  {
   "cell_type": "code",
   "execution_count": 58,
   "id": "00adec0f",
   "metadata": {},
   "outputs": [
    {
     "name": "stdout",
     "output_type": "stream",
     "text": [
      "Enter the number of classes150\n",
      "Enter number of class attended35\n",
      "Cannot attend the exam\n"
     ]
    }
   ],
   "source": [
    "is_attendable()"
   ]
  },
  {
   "cell_type": "code",
   "execution_count": 60,
   "id": "1ac31c89",
   "metadata": {},
   "outputs": [
    {
     "name": "stdout",
     "output_type": "stream",
     "text": [
      "Enter the number of classes100\n",
      "Enter number of class attended80\n",
      "Can attend the exam\n"
     ]
    }
   ],
   "source": [
    "is_attendable()"
   ]
  },
  {
   "cell_type": "code",
   "execution_count": 78,
   "id": "6f23e45c",
   "metadata": {},
   "outputs": [],
   "source": [
    "def list_prog():\n",
    "    lst = []\n",
    "    evn_lst = []\n",
    "    odd_lst = []\n",
    "\n",
    "    lst_len = int(input(\"Enter length of list: \"))\n",
    "    for i in range(lst_len):\n",
    "        val = int(input(\"Enter list value\"))\n",
    "        lst.append(val)\n",
    "    print(f\"Sum: {sum(lst)}\")\n",
    "    for i in lst:\n",
    "        if i % 2 == 0:\n",
    "            evn_lst.append(i)\n",
    "        else:\n",
    "            odd_lst.append(i)\n",
    "    print(evn_lst)\n",
    "    print(odd_lst)"
   ]
  },
  {
   "cell_type": "code",
   "execution_count": 79,
   "id": "64766477",
   "metadata": {},
   "outputs": [
    {
     "name": "stdout",
     "output_type": "stream",
     "text": [
      "Enter length of list: 5\n",
      "Enter list value1\n",
      "Enter list value2\n",
      "Enter list value3\n",
      "Enter list value4\n",
      "Enter list value5\n",
      "Sum: 15\n",
      "[2, 4]\n",
      "[1, 3, 5]\n"
     ]
    }
   ],
   "source": [
    "list_prog()"
   ]
  },
  {
   "cell_type": "code",
   "execution_count": 80,
   "id": "a70ff2a5",
   "metadata": {},
   "outputs": [
    {
     "name": "stdout",
     "output_type": "stream",
     "text": [
      "enter a: 3\n",
      "enter b: 4\n",
      "enter c: 2\n",
      "x1= (-0.6666666666666666+0.47140452079103173j)  and x2= (-0.6666666666666666-0.47140452079103173j)\n",
      "complex root\n"
     ]
    }
   ],
   "source": [
    "import math\n",
    "import cmath\n",
    "def main():\n",
    "    a=int(input(\"enter a: \"))\n",
    "    b=int(input(\"enter b: \"))\n",
    "    c=int(input(\"enter c: \"))\n",
    "    d=((math.pow(b,2))-(4*a*c))\n",
    "    if a!=0:\n",
    "        if d>0:\n",
    "           x1=(-b+math.sqrt(d))/(2*a)\n",
    "           x2=(-b-math.sqrt(d))/(2*a)\n",
    "           print(\"x1=\",x1,\" and x2=\",x2)\n",
    "           print(\"real root\")\n",
    "        elif d==0:\n",
    "           x=-b/(2*a)\n",
    "           print(\"x=\",x)\n",
    "           print(\"equal root\" )\n",
    "        elif d<0:\n",
    "            x1=(-b+cmath.sqrt(d))/(2*a)\n",
    "            x2=(-b-cmath.sqrt(d))/(2*a)\n",
    "            print(\"x1=\",x1,\" and x2=\",x2)\n",
    "            print(\"complex root\")\n",
    "    else:\n",
    "        print(\"this is not quadratic equation\")\n",
    "main()"
   ]
  },
  {
   "cell_type": "code",
   "execution_count": 84,
   "id": "9726f785",
   "metadata": {},
   "outputs": [
    {
     "name": "stdout",
     "output_type": "stream",
     "text": [
      "Current number: 1 Previous number: 0 Sum: 1\n",
      "Current number: 2 Previous number: 1 Sum: 3\n",
      "Current number: 3 Previous number: 2 Sum: 5\n",
      "Current number: 4 Previous number: 3 Sum: 7\n",
      "Current number: 5 Previous number: 4 Sum: 9\n",
      "Current number: 6 Previous number: 5 Sum: 11\n",
      "Current number: 7 Previous number: 6 Sum: 13\n",
      "Current number: 8 Previous number: 7 Sum: 15\n",
      "Current number: 9 Previous number: 8 Sum: 17\n",
      "Current number: 10 Previous number: 9 Sum: 19\n"
     ]
    }
   ],
   "source": [
    "for i in range(1, 10+1):\n",
    "    print(f\"Current number: {i} Previous number: {i-1} Sum: {i + (i-1)}\")"
   ]
  },
  {
   "cell_type": "code",
   "execution_count": 98,
   "id": "bbff3920",
   "metadata": {},
   "outputs": [
    {
     "name": "stdout",
     "output_type": "stream",
     "text": [
      "Enter the range: 20\n",
      "[2, 3, 5, 7, 11, 13, 17, 19]\n"
     ]
    }
   ],
   "source": [
    "def is_prime(num):\n",
    "    \n",
    "    flag = False\n",
    "    for i in range(2, num):\n",
    "        if (num % i) == 0:\n",
    "            # if factor is found, set flag to True\n",
    "            flag = True\n",
    "            # break out of loop\n",
    "            break\n",
    "\n",
    "    if not flag:\n",
    "        return True\n",
    "    else:\n",
    "        return False\n",
    "        \n",
    "prime = []\n",
    "num = int(input(\"Enter the range: \"))\n",
    "if num == 1:\n",
    "    print(num, \" is not a prime number\")\n",
    "elif num > 1:\n",
    "    for i in range(2, num):\n",
    "        if is_prime(i):\n",
    "            prime.append(i)\n",
    "print(prime)"
   ]
  },
  {
   "cell_type": "code",
   "execution_count": 101,
   "id": "45c9b812",
   "metadata": {},
   "outputs": [
    {
     "name": "stdout",
     "output_type": "stream",
     "text": [
      "Enter the range: 100\n",
      "[0, 1, 1, 2, 3, 5, 8, 13, 21, 34, 55, 89]\n"
     ]
    }
   ],
   "source": [
    "num = int(input(\"Enter the range: \"))\n",
    "fib = [0, 1]\n",
    "for i in range(num):\n",
    "    next_term = fib[i] + fib[i+1]\n",
    "    if next_term > num:\n",
    "        print(fib)\n",
    "        break\n",
    "    else:\n",
    "        fib.append(next_term)"
   ]
  },
  {
   "cell_type": "code",
   "execution_count": null,
   "id": "84260a52",
   "metadata": {},
   "outputs": [],
   "source": []
  }
 ],
 "metadata": {
  "kernelspec": {
   "display_name": "Python 3 (ipykernel)",
   "language": "python",
   "name": "python3"
  },
  "language_info": {
   "codemirror_mode": {
    "name": "ipython",
    "version": 3
   },
   "file_extension": ".py",
   "mimetype": "text/x-python",
   "name": "python",
   "nbconvert_exporter": "python",
   "pygments_lexer": "ipython3",
   "version": "3.9.12"
  }
 },
 "nbformat": 4,
 "nbformat_minor": 5
}
